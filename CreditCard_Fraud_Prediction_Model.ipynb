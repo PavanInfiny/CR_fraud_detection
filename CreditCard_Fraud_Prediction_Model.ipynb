{
  "nbformat": 4,
  "nbformat_minor": 0,
  "metadata": {
    "colab": {
      "name": "CreditCard_Fraud_Prediction_Model.ipynb",
      "provenance": [],
      "collapsed_sections": []
    },
    "kernelspec": {
      "name": "python3",
      "display_name": "Python 3"
    },
    "language_info": {
      "name": "python"
    }
  },
  "cells": [
    {
      "cell_type": "markdown",
      "metadata": {
        "id": "93CoN1PlT2jB"
      },
      "source": [
        "#**Fraud detection Prediction Model**\n",
        "Experts predict online credit card fraud to soar to a whopping $32 billion in 2020.\n",
        "Coca-Cola - (2 billions)\n",
        "Berkshire Hathway - (24 Billions)\n",
        "JP Morgan Chase - (23.5 billion)\n"
      ]
    },
    {
      "cell_type": "markdown",
      "metadata": {
        "id": "Gw2XtPzIgzzQ"
      },
      "source": [
        "**Would Machine Learning & AI constitute great allies in this battle?**\n",
        "\n",
        "Investment in technology for fraud detection has increased over the years so this shouldn’t be a surprise, but this brings us a problem: **imbalanced data.**"
      ]
    },
    {
      "cell_type": "code",
      "metadata": {
        "id": "GPolcrDETq05"
      },
      "source": [
        "# Let's start by Importing the data file\n",
        "from pydrive.auth import GoogleAuth\n",
        "from pydrive.drive import GoogleDrive\n",
        "from google.colab import auth\n",
        "from oauth2client.client import GoogleCredentials\n",
        "  \n",
        "  \n",
        "# Authenticate and create the PyDrive client.\n",
        "auth.authenticate_user()\n",
        "gauth = GoogleAuth()\n",
        "gauth.credentials = GoogleCredentials.get_application_default()\n",
        "drive = GoogleDrive(gauth)"
      ],
      "execution_count": null,
      "outputs": []
    },
    {
      "cell_type": "code",
      "metadata": {
        "colab": {
          "base_uri": "https://localhost:8080/"
        },
        "id": "GX7lYJcvmGy_",
        "outputId": "fa146d6d-9767-4fcb-e7d1-e972b9a0d3fa"
      },
      "source": [
        "link = 'https://drive.google.com/file/d/1xW1lj5YQdF809pLAkVjNd4dTFA_CVEeq/view?usp=sharing'\n",
        "\n",
        "import pandas as pd\n",
        "  \n",
        "# to get the id part of the file\n",
        "id = link.split(\"/\")[-2]\n",
        "  \n",
        "downloaded = drive.CreateFile({'id':id}) \n",
        "downloaded.GetContentFile('creditcard.csv')  \n",
        "  \n",
        "df = pd.read_csv('creditcard.csv')\n",
        "print(df)"
      ],
      "execution_count": null,
      "outputs": [
        {
          "output_type": "stream",
          "text": [
            "            Time         V1         V2  ...       V28  Amount  Class\n",
            "0            0.0  -1.359807  -0.072781  ... -0.021053  149.62      0\n",
            "1            0.0   1.191857   0.266151  ...  0.014724    2.69      0\n",
            "2            1.0  -1.358354  -1.340163  ... -0.059752  378.66      0\n",
            "3            1.0  -0.966272  -0.185226  ...  0.061458  123.50      0\n",
            "4            2.0  -1.158233   0.877737  ...  0.215153   69.99      0\n",
            "...          ...        ...        ...  ...       ...     ...    ...\n",
            "284802  172786.0 -11.881118  10.071785  ...  0.823731    0.77      0\n",
            "284803  172787.0  -0.732789  -0.055080  ... -0.053527   24.79      0\n",
            "284804  172788.0   1.919565  -0.301254  ... -0.026561   67.88      0\n",
            "284805  172788.0  -0.240440   0.530483  ...  0.104533   10.00      0\n",
            "284806  172792.0  -0.533413  -0.189733  ...  0.013649  217.00      0\n",
            "\n",
            "[284807 rows x 31 columns]\n"
          ],
          "name": "stdout"
        }
      ]
    },
    {
      "cell_type": "code",
      "metadata": {
        "id": "hDiwGC80Z56H"
      },
      "source": [
        "import numpy as np\n",
        "from sklearn.model_selection import train_test_split\n",
        "\n",
        "from xgboost import XGBClassifier\n",
        "from sklearn.metrics import classification_report, roc_auc_score"
      ],
      "execution_count": null,
      "outputs": []
    },
    {
      "cell_type": "code",
      "metadata": {
        "colab": {
          "base_uri": "https://localhost:8080/"
        },
        "id": "_0nTReObpvj7",
        "outputId": "82b588f6-add8-4419-c039-855d4fbd215f"
      },
      "source": [
        "df.shape"
      ],
      "execution_count": null,
      "outputs": [
        {
          "output_type": "execute_result",
          "data": {
            "text/plain": [
              "(284807, 31)"
            ]
          },
          "metadata": {
            "tags": []
          },
          "execution_count": 3
        }
      ]
    },
    {
      "cell_type": "code",
      "metadata": {
        "id": "ukPsWs9xrrtS"
      },
      "source": [
        "#splitting data inttoo features and target \n",
        "X = df.drop(['Class'],axis=1)\n",
        "y = df['Class']"
      ],
      "execution_count": null,
      "outputs": []
    },
    {
      "cell_type": "code",
      "metadata": {
        "id": "hVP6TUWBaFk4"
      },
      "source": [
        " X_train, X_test, y_train, y_test = train_test_split(X, y, test_size=0.30, random_state=42)"
      ],
      "execution_count": null,
      "outputs": []
    },
    {
      "cell_type": "code",
      "metadata": {
        "colab": {
          "base_uri": "https://localhost:8080/",
          "height": 265
        },
        "id": "Tn9c6nEjr9jX",
        "outputId": "1a2982de-cff5-44ee-9b0d-7178a888aa49"
      },
      "source": [
        "y.value_counts().plot.pie(autopct = '%.2f')"
      ],
      "execution_count": null,
      "outputs": [
        {
          "output_type": "execute_result",
          "data": {
            "text/plain": [
              "<matplotlib.axes._subplots.AxesSubplot at 0x7f434a5fd150>"
            ]
          },
          "metadata": {
            "tags": []
          },
          "execution_count": 6
        },
        {
          "output_type": "display_data",
          "data": {
            "image/png": "[encoded data removed]",
            "text/plain": [
              "<Figure size 432x288 with 1 Axes>"
            ]
          },
          "metadata": {
            "tags": []
          }
        }
      ]
    },
    {
      "cell_type": "markdown",
      "metadata": {
        "id": "-dOTgOxksQtT"
      },
      "source": [
        "As we can see from above output, how imbalanced the data is.\n",
        "From the pie chart, only 0.17% of data points are classified as fraudulent\n",
        "\n",
        "The most **fast, straightforward** way to proceed in this case would be predicting that 100% of all the transactions are not fraudulent. Accuracy in this case would be 99% . Not bad, right?\n",
        "\n",
        "Would this **“model”** be correct and fault proof regardless of characteristics from all your future transactions?\n",
        "\n",
        "Prediction would have *no value*. And one of the most important missions of a Data Scientist is **creating business value out of data**."
      ]
    },
    {
      "cell_type": "code",
      "metadata": {
        "colab": {
          "base_uri": "https://localhost:8080/"
        },
        "id": "2G7S_iDkbTG7",
        "outputId": "30f44479-bb70-442f-ec80-de16fd35b29d"
      },
      "source": [
        "model = XGBClassifier(n_estimator = 100, learning_rate=0.05, n_jobs=4)\n",
        "\n",
        "model.fit(X_train,y_train, early_stopping_rounds=5, eval_set=[(X_test, y_test)],verbose = False)"
      ],
      "execution_count": null,
      "outputs": [
        {
          "output_type": "execute_result",
          "data": {
            "text/plain": [
              "XGBClassifier(base_score=0.5, booster='gbtree', colsample_bylevel=1,\n",
              "              colsample_bynode=1, colsample_bytree=1, gamma=0,\n",
              "              learning_rate=0.05, max_delta_step=0, max_depth=3,\n",
              "              min_child_weight=1, missing=None, n_estimator=100,\n",
              "              n_estimators=100, n_jobs=4, nthread=None,\n",
              "              objective='binary:logistic', random_state=0, reg_alpha=0,\n",
              "              reg_lambda=1, scale_pos_weight=1, seed=None, silent=None,\n",
              "              subsample=1, verbosity=1)"
            ]
          },
          "metadata": {
            "tags": []
          },
          "execution_count": 15
        }
      ]
    },
    {
      "cell_type": "code",
      "metadata": {
        "colab": {
          "base_uri": "https://localhost:8080/"
        },
        "id": "aOGBavpyiOXE",
        "outputId": "0aed0ae9-2097-41cf-9e82-ddfab6358393"
      },
      "source": [
        "preds = model.predict(X_test)\n",
        "print(classification_report(y_test, preds))\n",
        "print(roc_auc_score(y_test, preds))"
      ],
      "execution_count": null,
      "outputs": [
        {
          "output_type": "stream",
          "text": [
            "              precision    recall  f1-score   support\n",
            "\n",
            "           0       1.00      1.00      1.00     85307\n",
            "           1       0.86      0.73      0.79       136\n",
            "\n",
            "    accuracy                           1.00     85443\n",
            "   macro avg       0.93      0.86      0.89     85443\n",
            "weighted avg       1.00      1.00      1.00     85443\n",
            "\n",
            "0.8638768092956995\n"
          ],
          "name": "stdout"
        }
      ]
    },
    {
      "cell_type": "markdown",
      "metadata": {
        "id": "8OPsjjLJuawR"
      },
      "source": [
        "# Dealing with imbalanced data\n",
        "I am gonna compare the classsification report of all the methods below\n",
        "*   Oversampling — SMOTE\n",
        "*   Undersampling — RandomUnderSampler\n",
        "*   Combined Class Methods — SMOTE + ENN"
      ]
    },
    {
      "cell_type": "code",
      "metadata": {
        "id": "KwPK-P5WsDYg",
        "colab": {
          "base_uri": "https://localhost:8080/"
        },
        "outputId": "4c3a7bd6-09e4-4f53-9fb7-7e3cb105bf03"
      },
      "source": [
        "from imblearn.over_sampling import SMOTE\n",
        "from imblearn.pipeline import Pipeline\n",
        "\n",
        "re_smote = SMOTE()\n",
        "steps = [('re_smote', SMOTE()), ('model', model)]\n",
        "pipeline = Pipeline(steps=steps)\n",
        "\n",
        "pipeline.fit(X_train, y_train)"
      ],
      "execution_count": null,
      "outputs": [
        {
          "output_type": "stream",
          "text": [
            "/usr/local/lib/python3.7/dist-packages/sklearn/utils/deprecation.py:87: FutureWarning: Function safe_indexing is deprecated; safe_indexing is deprecated in version 0.22 and will be removed in version 0.24.\n",
            "  warnings.warn(msg, category=FutureWarning)\n"
          ],
          "name": "stderr"
        },
        {
          "output_type": "execute_result",
          "data": {
            "text/plain": [
              "Pipeline(memory=None,\n",
              "         steps=[('re_smote',\n",
              "                 SMOTE(k_neighbors=5, kind='deprecated',\n",
              "                       m_neighbors='deprecated', n_jobs=1,\n",
              "                       out_step='deprecated', random_state=None, ratio=None,\n",
              "                       sampling_strategy='auto', svm_estimator='deprecated')),\n",
              "                ('model',\n",
              "                 XGBClassifier(base_score=0.5, booster='gbtree',\n",
              "                               colsample_bylevel=1, colsample_bynode=1,\n",
              "                               colsample_bytree=1, gamma=0, learning_rate=0.05,\n",
              "                               max_delta_step=0, max_depth=3,\n",
              "                               min_child_weight=1, missing=None,\n",
              "                               n_estimator=100, n_estimators=100, n_jobs=4,\n",
              "                               nthread=None, objective='binary:logistic',\n",
              "                               random_state=0, reg_alpha=0, reg_lambda=1,\n",
              "                               scale_pos_weight=1, seed=None, silent=None,\n",
              "                               subsample=1, verbosity=1))],\n",
              "         verbose=False)"
            ]
          },
          "metadata": {
            "tags": []
          },
          "execution_count": 38
        }
      ]
    },
    {
      "cell_type": "code",
      "metadata": {
        "colab": {
          "base_uri": "https://localhost:8080/"
        },
        "id": "oHhGudGKwu-9",
        "outputId": "3ebd2c09-9dce-4d15-9aea-82fd1de9d4da"
      },
      "source": [
        "def score():\n",
        "    preds = pipeline.predict(X_test.values)\n",
        "    print(classification_report(y_test, preds))\n",
        "    print(roc_auc_score(y_test, preds))\n",
        "score()"
      ],
      "execution_count": null,
      "outputs": [
        {
          "output_type": "stream",
          "text": [
            "              precision    recall  f1-score   support\n",
            "\n",
            "           0       1.00      0.96      0.98     85307\n",
            "           1       0.04      0.92      0.08       136\n",
            "\n",
            "    accuracy                           0.96     85443\n",
            "   macro avg       0.52      0.94      0.53     85443\n",
            "weighted avg       1.00      0.96      0.98     85443\n",
            "\n",
            "0.941775992108778\n"
          ],
          "name": "stdout"
        }
      ]
    },
    {
      "cell_type": "markdown",
      "metadata": {
        "id": "DdqgOG8gxIgF"
      },
      "source": [
        "Random undersampling"
      ]
    },
    {
      "cell_type": "code",
      "metadata": {
        "colab": {
          "base_uri": "https://localhost:8080/"
        },
        "id": "cXGh7Nv5npn1",
        "outputId": "d9756a37-568c-4d79-e8a2-38012e42a221"
      },
      "source": [
        "from imblearn.under_sampling import RandomUnderSampler\n",
        "\n",
        "rus = RandomUnderSampler(sampling_strategy = 1)\n",
        "\n",
        "steps = [('rus', rus), ('model', model)]\n",
        "pipeline = Pipeline(steps=steps)\n",
        "\n",
        "pipeline.fit(X_train, y_train)\n",
        "\n",
        "score()"
      ],
      "execution_count": null,
      "outputs": [
        {
          "output_type": "stream",
          "text": [
            "/usr/local/lib/python3.7/dist-packages/sklearn/utils/deprecation.py:87: FutureWarning: Function safe_indexing is deprecated; safe_indexing is deprecated in version 0.22 and will be removed in version 0.24.\n",
            "  warnings.warn(msg, category=FutureWarning)\n"
          ],
          "name": "stderr"
        },
        {
          "output_type": "stream",
          "text": [
            "              precision    recall  f1-score   support\n",
            "\n",
            "           0       1.00      0.96      0.98     85307\n",
            "           1       0.03      0.90      0.06       136\n",
            "\n",
            "    accuracy                           0.96     85443\n",
            "   macro avg       0.52      0.93      0.52     85443\n",
            "weighted avg       1.00      0.96      0.98     85443\n",
            "\n",
            "0.9311114821278715\n"
          ],
          "name": "stdout"
        }
      ]
    },
    {
      "cell_type": "code",
      "metadata": {
        "id": "6CVLhGEexlQ6"
      },
      "source": [
        "#To be continued"
      ],
      "execution_count": null,
      "outputs": []
    }
  ]
}